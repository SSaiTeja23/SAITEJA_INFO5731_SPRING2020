{
  "nbformat": 4,
  "nbformat_minor": 0,
  "metadata": {
    "colab": {
      "name": "Copy of INFO5731_Assignment_One.ipynb",
      "provenance": [],
      "collapsed_sections": [],
      "include_colab_link": true
    },
    "kernelspec": {
      "name": "python3",
      "display_name": "Python 3"
    }
  },
  "cells": [
    {
      "cell_type": "markdown",
      "metadata": {
        "id": "view-in-github",
        "colab_type": "text"
      },
      "source": [
        "<a href=\"https://colab.research.google.com/github/SSaiTeja23/SAITEJA_INFO5731_SPRING2020/blob/master/Copy_of_INFO5731_Assignment_One.ipynb\" target=\"_parent\"><img src=\"https://colab.research.google.com/assets/colab-badge.svg\" alt=\"Open In Colab\"/></a>"
      ]
    },
    {
      "cell_type": "markdown",
      "metadata": {
        "id": "Ryk8D1Q4Wsrp",
        "colab_type": "text"
      },
      "source": [
        "# **INFO5731 Assignment One**"
      ]
    },
    {
      "cell_type": "markdown",
      "metadata": {
        "id": "90_NR8c5XGWc",
        "colab_type": "text"
      },
      "source": [
        "# Question 1\n",
        "\n",
        "(20 points). Write a Python program to generate 12 random numbers between 1 and 100. Sort the list of numbers in ascending order and print it out. Sort the list of numbers in descending order and print it out. Calculate the average for the group and print it out."
      ]
    },
    {
      "cell_type": "code",
      "metadata": {
        "id": "5QX6bJjGWXY9",
        "colab_type": "code",
        "outputId": "a7ab2d15-cdfe-4869-c9f3-8cb060e056c0",
        "colab": {
          "base_uri": "https://localhost:8080/",
          "height": 84
        }
      },
      "source": [
        "# Your code here\n",
        "import random\n",
        "from numpy import mean\n",
        "def Rand(start, end, num): \n",
        "    res = []\n",
        "    for j in range(num): \n",
        "        res.append(random.randint(start, end)) \n",
        "  \n",
        "    return res\n",
        "\n",
        "num = 12\n",
        "start = 1\n",
        "end = 100\n",
        "list = []\n",
        "list = Rand(start,end,num)\n",
        "print('The 12 Random numbers are:',list)\n",
        "list.sort()\n",
        "print('The 12 Random numbers in Ascending order:',list)\n",
        "list.sort(reverse=True)\n",
        "print('The 12 Random numbers in Descending order:',list)\n",
        "average = mean(list)\n",
        "print('The average of the 12 Random numbers:',round(average,2))"
      ],
      "execution_count": 0,
      "outputs": [
        {
          "output_type": "stream",
          "text": [
            "The 12 Random numbers are: [72, 55, 95, 35, 14, 67, 63, 59, 52, 86, 6, 67]\n",
            "The 12 Random numbers in Ascending order: [6, 14, 35, 52, 55, 59, 63, 67, 67, 72, 86, 95]\n",
            "The 12 Random numbers in Descending order: [95, 86, 72, 67, 67, 63, 59, 55, 52, 35, 14, 6]\n",
            "The average of the 12 Random numbers: 55.92\n"
          ],
          "name": "stdout"
        }
      ]
    },
    {
      "cell_type": "markdown",
      "metadata": {
        "id": "1F_PZdH9Sh49",
        "colab_type": "text"
      },
      "source": [
        "# Question 2\n",
        "(25 points). Write a program that will do the following string formatting tasks:\n",
        "\n",
        "(1) Ask the user to enter two sentences.\n",
        "\n",
        "(2) Make each sentence into a list. Each element in the list should correspond to a word in the sentence. For example, if the sentence is \"Alas! Am I alive? This is my first python program\", the program should print out ['Alas, '!', 'Am', 'I', 'alive, '?', 'This', 'is', 'my', 'first', 'python', 'program'].\n",
        "\n",
        "(3) Compare the two sentences. Print out a list of words that occur in both sentences.\n",
        "\n",
        "(4) Remove any punctuation from the sentence and print it back out. It should remove at least the following characters, but it can remove more: period(“.”), comma (“,”), semicolon (“;”), and colon (“:”)\n",
        "\n",
        "(5) Count the number of vowels in the sentences. Print out each vowel and the number of times it appears in the sentences, such as: a:2, e:1, i:0, etc"
      ]
    },
    {
      "cell_type": "code",
      "metadata": {
        "id": "Y0oOSlsOS0cq",
        "colab_type": "code",
        "outputId": "aa4a8f08-e34a-432b-9e2a-8e756f3286db",
        "colab": {
          "base_uri": "https://localhost:8080/",
          "height": 134
        }
      },
      "source": [
        "# Your code here\n",
        "\n",
        "def convert(List):\n",
        "  return List.split()\n",
        "\n",
        "def common_words(List1, List2):\n",
        "  \n",
        "  for i in range(len(List1)):\n",
        "    for j in range(len(List2)):\n",
        "      if List2[j]==List1[i]:\n",
        "        print(List2[j])\n",
        "      else:\n",
        "        continue\n",
        "\n",
        "def Punctuation(string): \n",
        "   \n",
        "    punctuations = '''!()-[]{};:'\"\\,<>./?@#$%^&*_~'''\n",
        "  \n",
        "    for x in string.lower(): \n",
        "        if x in punctuations: \n",
        "            string = string.replace(x, \"\") \n",
        "   \n",
        "    print(string) \n",
        "\n",
        "List1 = []\n",
        "List2 = []\n",
        "Sentence1 = input('Enter the First Sentence :  ')\n",
        "Sentence2 = input('Enter the second sentence : ')\n",
        "\n",
        "List1 = convert(Sentence1)\n",
        "print (List1)\n",
        "List2 = convert(Sentence2)\n",
        "print (List2)\n",
        "common_words(List1,List2)\n",
        "# print('The words which are common',common_words(List1,List2))\n",
        "Punctuation(Sentence1)\n",
        "Punctuation(Sentence2)\n",
        "\n",
        "vowels = 'aeiou'\n",
        "# making sentences suitable for caseless comparisions\n",
        "Sentence1 = Sentence1.casefold()\n",
        "Sentence2 = Sentence2.casefold()\n",
        "\n",
        "# making a dictionary with each vowel a key and value 0\n",
        "count = {}.fromkeys(vowels,0)\n",
        "\n",
        "# counting the vowels\n",
        "for char in Sentence1:\n",
        "   if char in count:\n",
        "       count[char] += 1\n",
        "\n",
        "# count the vowels\n",
        "for char in Sentence2:\n",
        "   if char in count:\n",
        "       count[char] += 1\n",
        "\n",
        "print(count)"
      ],
      "execution_count": 0,
      "outputs": [
        {
          "output_type": "stream",
          "text": [
            "Enter the First Sentence :  Hi world >?{() < : ) &\n",
            "Enter the second sentence : Hello people, ? Hi! How are you doing?\n",
            "['Hi', 'world', '>?{()', '<', ':', ')', '&']\n",
            "['Hello', 'people,', '?', 'Hi!', 'How', 'are', 'you', 'doing?']\n",
            "Hi world     \n",
            "Hello people  Hi How are you doing\n",
            "{'a': 1, 'e': 4, 'i': 3, 'o': 6, 'u': 1}\n"
          ],
          "name": "stdout"
        }
      ]
    },
    {
      "cell_type": "markdown",
      "metadata": {
        "id": "CmFoI4jDS9nx",
        "colab_type": "text"
      },
      "source": [
        "# Question 3 \n",
        "\n",
        "(15 points). The formula that describes the volume V of a sphere with radius r is the following:\n",
        "\n",
        "$ V=\\frac{4}{3}\\ast\\ \\pi\\ast\\ r^3 $\n",
        "\n",
        "Write a program to calculate the value of V when r is in the range of 1–10. Output the result in the following format:\n",
        "\n",
        "\tr\tV\n",
        "\t1\t…\n",
        "\t2\t…\n",
        "\t3\t…\n"
      ]
    },
    {
      "cell_type": "code",
      "metadata": {
        "id": "pEyqeioAT95b",
        "colab_type": "code",
        "outputId": "e4698ff9-0ea9-409d-9578-251a78b99bc4",
        "colab": {
          "base_uri": "https://localhost:8080/",
          "height": 202
        }
      },
      "source": [
        "# Your code here\n",
        "\n",
        "print ('r' + '     ' + 'V')\n",
        "for r in range(1,11):\n",
        "  V = 4/3 * 3.14 * (r)**3\n",
        "  print (str(r) + '     ' + str(V))\n"
      ],
      "execution_count": 0,
      "outputs": [
        {
          "output_type": "stream",
          "text": [
            "r     V\n",
            "1     4.1866666666666665\n",
            "2     33.49333333333333\n",
            "3     113.03999999999999\n",
            "4     267.94666666666666\n",
            "5     523.3333333333334\n",
            "6     904.3199999999999\n",
            "7     1436.0266666666666\n",
            "8     2143.5733333333333\n",
            "9     3052.08\n",
            "10     4186.666666666667\n"
          ],
          "name": "stdout"
        }
      ]
    },
    {
      "cell_type": "code",
      "metadata": {
        "id": "pMCr3l8tnu0j",
        "colab_type": "code",
        "colab": {}
      },
      "source": [
        ""
      ],
      "execution_count": 0,
      "outputs": []
    },
    {
      "cell_type": "markdown",
      "metadata": {
        "id": "z3tBE7E-Xn5X",
        "colab_type": "text"
      },
      "source": [
        "# Question 4\n",
        "\n",
        "(40 points). In the field of Data Science, data is often formatted as a comma-delimited (CSV) file, where each line in a file corresponds to a field's value. Refer to Chapter 9 (p. 106) for more information on comma-delimited files. To answer this question, you will need to download the file [Assignment1_denton_housing.csv](https://github.com/unt-iialab/INFO5731_Spring2020/blob/master/Assignments/Assignment1_denton_housing.csv) included with this assignment. The [file Assignment1_denton_housing.csv](https://github.com/unt-iialab/INFO5731_Spring2020/blob/master/Assignments/Assignment1_denton_housing.csv) contains statistics about housing in the city of Denton from 2008 to 2014. Write a program to implement the following questions.\n",
        "\n",
        "(1) (10 pts) Calculate the difference in the number of Occupied Housing Units from year to year and print it. The difference must be calculated for the consecutive years such as 2008-2009, 2009-2010 etc. Finally, print the values in the ascending order.\n",
        "\n",
        "(2) (10 pts) For all the years, calculate the percentage of housing units which are vacant an occupied. Print the results in the following format:\n",
        "\n",
        "Year Vacant Housing Units Occupied Housing Units\n",
        "\n",
        "    2008  30%   70%                          \n",
        "\t2009 ----- -----\n",
        "\t2010 ----- -----\n",
        "    2011 ----- -----\n",
        "\t2012 ----- -----\n",
        "    2013 ----- -----\n",
        "\t2014 ----- -----\n",
        "  \n",
        "  \n",
        "\n",
        "(3) (10 pts) Calculate and print the valued and years in which the highest number of housing units were vacant and occupied. Print the results in the following format:  \n",
        "\n",
        "                              Year\tValue\n",
        "\tVacant Housing Units\t  -----   -----\n",
        "\tOccupied Housing Units\t-----   -----\n",
        "\n",
        "(4) (10 pts) Calculate the harmonic mean of the total housing units and print it out. You can find the information about harmonic mean here: https://ncalculators.com/statistics/harmonic-mean-calculator.htm"
      ]
    },
    {
      "cell_type": "code",
      "metadata": {
        "id": "lqGYuHBhcsRH",
        "colab_type": "code",
        "colab": {}
      },
      "source": [
        "# Your code here\n",
        "#Solution 4.1\n",
        "import pandas as pd\n",
        "url = 'https://raw.githubusercontent.com/unt-iialab/INFO5731_Spring2020/master/Assignments/Assignment1_denton_housing.csv'\n",
        "data = pd.read_csv(url)\n",
        "data = data.loc[data['title_field'] == 'Occupied Housing Units'].sort_values(by=['year'])\n",
        "print('Difference in the number of Occupied Housing Units from year to year in Ascending order')\n",
        "data['value'].diff().sort_values().dropna()\n"
      ],
      "execution_count": 0,
      "outputs": []
    },
    {
      "cell_type": "code",
      "metadata": {
        "id": "PswXJC3t2dhT",
        "colab_type": "code",
        "outputId": "b626713e-9d62-4832-ccdd-4b5a1941736b",
        "colab": {
          "base_uri": "https://localhost:8080/",
          "height": 151
        }
      },
      "source": [
        "#Solution 4.2\n",
        "data2 = pd.read_csv(url)\n",
        "Vacant = data2.loc[data2['title_field'] == 'Vacant Housing Units'].sort_values(by=['year'])['value'].values.tolist()\n",
        "Occupied = data2.loc[data2['title_field'] == 'Occupied Housing Units'].sort_values(by=['year'])['value'].values.tolist()\n",
        "Total = data2.loc[data2['title_field'] == 'Total Housing Units'].sort_values(by=['year'])['value'].values.tolist()\n",
        "\n",
        "VacantPercent = [str((v/t)*100)+' %' for v,t in zip(Vacant,Total)]\n",
        "OccupiedPercent = [str((o/t)*100)+' %' for o,t in zip(Occupied,Total)]\n",
        "datarow = pd.concat([pd.DataFrame(data2.loc[data2['title_field'] == 'Occupied Housing Units'].sort_values(by=['year'])['year'].values.tolist(),columns=['year']),pd.DataFrame(VacantPercent,columns=['Vacant Housing Units']),pd.DataFrame(OccupiedPercent,columns=['Occupied Housing Units'])],axis=1)\n",
        "print(datarow)"
      ],
      "execution_count": 0,
      "outputs": [
        {
          "output_type": "stream",
          "text": [
            "   year Vacant Housing Units Occupied Housing Units\n",
            "0  2008  10.88265281351653 %    89.11734718648347 %\n",
            "1  2009   9.07111572444872 %    90.92888427555128 %\n",
            "2  2010  8.142556337081672 %    91.85744366291833 %\n",
            "3  2011  9.379522229890688 %     90.6204777701093 %\n",
            "4  2012  6.677600230491346 %    93.32239976950866 %\n",
            "5  2013  8.801787504176412 %    91.19821249582358 %\n",
            "6  2014  5.730110570363885 %    94.26988942963611 %\n"
          ],
          "name": "stdout"
        }
      ]
    },
    {
      "cell_type": "code",
      "metadata": {
        "id": "XKC7g-TB7WPY",
        "colab_type": "code",
        "outputId": "99dca855-aa3a-41e9-aead-674dbf8d1744",
        "colab": {
          "base_uri": "https://localhost:8080/",
          "height": 67
        }
      },
      "source": [
        "#Solution 4.3\n",
        "Occupied = data2.loc[data2['title_field'] == 'Occupied Housing Units']\n",
        "Vacant = data2.loc[data2['title_field'] == 'Vacant Housing Units']\n",
        "datarow = pd.concat([Occupied[Occupied['value']==Occupied['value'].max()],Vacant[Vacant['value']==Vacant['value'].max()]])\n",
        "print(datarow[['title_field','year','value']])"
      ],
      "execution_count": 0,
      "outputs": [
        {
          "output_type": "stream",
          "text": [
            "               title_field  year  value\n",
            "2   Occupied Housing Units  2014  46295\n",
            "19    Vacant Housing Units  2008   4483\n"
          ],
          "name": "stdout"
        }
      ]
    },
    {
      "cell_type": "code",
      "metadata": {
        "id": "cdzJ1bf682ic",
        "colab_type": "code",
        "outputId": "6e6d6120-5920-4245-c964-d02965c641bd",
        "colab": {
          "base_uri": "https://localhost:8080/",
          "height": 34
        }
      },
      "source": [
        "#Solution 4.4\n",
        "from scipy import stats\n",
        "print ('harmonic mean of the total housing units =   ', stats.hmean(Total))\n"
      ],
      "execution_count": 0,
      "outputs": [
        {
          "output_type": "stream",
          "text": [
            "harmonic mean of the total housing units =    44398.28543969185\n"
          ],
          "name": "stdout"
        }
      ]
    }
  ]
}